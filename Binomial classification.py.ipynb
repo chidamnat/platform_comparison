{
 "cells": [
  {
   "cell_type": "markdown",
   "metadata": {},
   "source": [
    "### Dataset 1"
   ]
  },
  {
   "cell_type": "code",
   "execution_count": 134,
   "metadata": {
    "collapsed": false
   },
   "outputs": [],
   "source": [
    "import numpy as np\n",
    "import pandas as pd\n",
    "from sklearn import svm\n",
    "from sklearn.ensemble import RandomForestClassifier\n",
    "from sklearn import linear_model\n",
    "from sklearn.tree import DecisionTreeClassifier\n",
    "from sklearn.metrics import confusion_matrix\n",
    "from sklearn.cross_validation import train_test_split, cross_val_score, StratifiedShuffleSplit \n",
    "from sklearn import preprocessing, metrics\n",
    "from sklearn.metrics import roc_curve, auc\n",
    "import matplotlib.pyplot as plt\n",
    "get_ipython().magic('matplotlib inline')\n"
   ]
  },
  {
   "cell_type": "code",
   "execution_count": 135,
   "metadata": {
    "collapsed": false
   },
   "outputs": [],
   "source": [
    "## Reading the file\n",
    "def read_file(trainF,testF, Directory):\n",
    "    #Directory = \"./Data Set 1/splits/\"\n",
    "    train = pd.read_csv(Directory + trainF)\n",
    "    test =  pd.read_csv(Directory + testF)\n",
    "    return train, test"
   ]
  },
  {
   "cell_type": "code",
   "execution_count": 138,
   "metadata": {
    "collapsed": false
   },
   "outputs": [],
   "source": [
    "## SVM classifier\n",
    "def svm_classifier(train, test, accuracy, roc_auc, Target_col,pos_label=None):\n",
    "    y = train[Target_col]\n",
    "    X = train.drop([Target_col],axis=1)\n",
    "    test_labels = test[Target_col]\n",
    "    test_X = test.drop([Target_col],axis=1)\n",
    "    clf = svm.SVC(probability=True)\n",
    "    clf.fit(X,y)\n",
    "    y_pred = clf.predict(test_X)\n",
    "    accuracy.append(metrics.accuracy_score(test_labels, y_pred))\n",
    "    probas_ = clf.predict_proba(test_X)\n",
    "    # Compute ROC curve and area the curve\n",
    "    false_positive_rate, true_positive_rate, thresholds = roc_curve(test_labels, probas_[:, 1],pos_label=pos_label)\n",
    "    roc_auc.append(auc(false_positive_rate, true_positive_rate))\n",
    "    return accuracy, roc_auc"
   ]
  },
  {
   "cell_type": "code",
   "execution_count": 139,
   "metadata": {
    "collapsed": true
   },
   "outputs": [],
   "source": [
    "## RF classifier\n",
    "def RF_classifier(train, test, accuracy, roc_auc, Target_col,pos_label=None):\n",
    "    y = train[Target_col]\n",
    "    X = train.drop([Target_col],axis=1)\n",
    "    test_labels = test[Target_col]\n",
    "    test_X = test.drop([Target_col],axis=1)\n",
    "    RF = RandomForestClassifier(n_estimators = 200, random_state = 100, \n",
    "                    class_weight = 'balanced', oob_score = True)\n",
    "    RF.fit(X,y)\n",
    "    y_pred = RF.predict(test_X)\n",
    "    accuracy.append(metrics.accuracy_score(test_labels, y_pred))\n",
    "    probas_ = RF.predict_proba(test_X)\n",
    "    # Compute ROC curve and area the curve\n",
    "    false_positive_rate, true_positive_rate, thresholds = roc_curve(test_labels, probas_[:, 1],pos_label=pos_label)\n",
    "    roc_auc.append(auc(false_positive_rate, true_positive_rate))\n",
    "    return accuracy, roc_auc"
   ]
  },
  {
   "cell_type": "code",
   "execution_count": 140,
   "metadata": {
    "collapsed": true
   },
   "outputs": [],
   "source": [
    "## Logistic Regression\n",
    "def log_classifier(train, test, accuracy, roc_auc, Target_col,pos_label=None):\n",
    "    y = train[Target_col]\n",
    "    X = train.drop([Target_col],axis=1)\n",
    "    test_labels = test[Target_col]\n",
    "    test_X = test.drop([Target_col],axis=1)\n",
    "    logreg = linear_model.LogisticRegression()\n",
    "    logreg.fit(X,y)\n",
    "    y_pred = logreg.predict(test_X)\n",
    "    accuracy.append(metrics.accuracy_score(test_labels, y_pred))\n",
    "    probas_ = logreg.predict_proba(test_X)\n",
    "    # Compute ROC curve and area the curve\n",
    "    false_positive_rate, true_positive_rate, thresholds = roc_curve(test_labels, probas_[:, 1],pos_label=pos_label)\n",
    "    roc_auc.append(auc(false_positive_rate, true_positive_rate))\n",
    "    return accuracy, roc_auc"
   ]
  },
  {
   "cell_type": "code",
   "execution_count": 141,
   "metadata": {
    "collapsed": true
   },
   "outputs": [],
   "source": [
    "## Decision Tree\n",
    "def tree_classifier(train, test, accuracy, roc_auc, Target_col,pos_label=None):\n",
    "    y = train[Target_col]\n",
    "    X = train.drop([Target_col],axis=1)\n",
    "    test_labels = test[Target_col]\n",
    "    test_X = test.drop([Target_col],axis=1)\n",
    "    tree = DecisionTreeClassifier(random_state=0)\n",
    "    tree.fit(X,y)\n",
    "    y_pred = tree.predict(test_X)\n",
    "    accuracy.append(metrics.accuracy_score(test_labels, y_pred))\n",
    "    probas_ = tree.predict_proba(test_X)\n",
    "    # Compute ROC curve and area the curve\n",
    "    false_positive_rate, true_positive_rate, thresholds = roc_curve(test_labels, probas_[:, 1],pos_label=pos_label)\n",
    "    roc_auc.append(auc(false_positive_rate, true_positive_rate))\n",
    "    return accuracy, roc_auc"
   ]
  },
  {
   "cell_type": "code",
   "execution_count": 142,
   "metadata": {
    "collapsed": true
   },
   "outputs": [],
   "source": [
    "def model_build(filenum,Target_column, df_train, df_test, Directory,pos_label=None):\n",
    "    accuracy_svm = []; roc_auc_svm = []\n",
    "    accuracy_RF = []; roc_auc_RF = []\n",
    "    accuracy_log = []; roc_auc_log = []\n",
    "    accuracy_tree = []; roc_auc_tree = []\n",
    "    Target_col = Target_column\n",
    "    for i in range(1,11):\n",
    "        trainF = df_train+ str(i) + '.csv'\n",
    "        testF = df_test + str(i) + '.csv'\n",
    "        train, test = read_file(trainF,testF,Directory)\n",
    "        accuracy_svm, roc_auc_svm = svm_classifier(train, test, accuracy_svm, roc_auc_svm, Target_col,pos_label)\n",
    "        accuracy_RF, roc_auc_RF = RF_classifier(train, test, accuracy_RF, roc_auc_RF, Target_col,pos_label)\n",
    "        accuracy_log, roc_auc_log = log_classifier(train, test, accuracy_log, roc_auc_log, Target_col,pos_label)\n",
    "        accuracy_tree, roc_auc_tree = tree_classifier(train, test, accuracy_tree, roc_auc_tree, Target_col,pos_label)\n",
    "    print('Data set# ' + str(filenum))\n",
    "    print('********** SVM classifier ***********')\n",
    "    print('Accuracy mean   ' + 'Accuracy Stdev  ')\n",
    "    print(np.array(accuracy_svm).mean(), np.array(accuracy_svm).std())\n",
    "    print('AUC mean        ' + 'AUC      Stdev  ')\n",
    "    print(np.array(roc_auc_svm).mean(), np.array(roc_auc_svm).std())\n",
    "    print()\n",
    "    print('********** RF classifier ************')\n",
    "    print('Accuracy mean   ' + 'Accuracy Stdev  ')\n",
    "    print(np.array(accuracy_RF).mean(), np.array(accuracy_RF).std())\n",
    "    print('AUC mean        ' + 'AUC      Stdev  ')\n",
    "    print(np.array(roc_auc_RF).mean(), np.array(roc_auc_RF).std())\n",
    "    print()\n",
    "    print('********** Logistic regression ******')\n",
    "    print('Accuracy mean   ' + 'Accuracy Stdev  ')\n",
    "    print(np.array(accuracy_log).mean(), np.array(accuracy_log).std())\n",
    "    print('AUC mean        ' + 'AUC      Stdev  ')\n",
    "    print(np.array(roc_auc_log).mean(), np.array(roc_auc_log).std())\n",
    "    print()\n",
    "    print('****** Decision Tree classifier *****')\n",
    "    print('Accuracy mean   ' + 'Accuracy Stdev  ')\n",
    "    print(np.array(accuracy_tree).mean(), np.array(accuracy_tree).std())\n",
    "    print('AUC mean        ' + 'AUC      Stdev  ')\n",
    "    print(np.array(roc_auc_tree).mean(), np.array(roc_auc_tree).std())\n",
    "    print()"
   ]
  },
  {
   "cell_type": "code",
   "execution_count": 143,
   "metadata": {
    "collapsed": false
   },
   "outputs": [
    {
     "name": "stdout",
     "output_type": "stream",
     "text": [
      "Data set# 1\n",
      "********** SVM classifier ***********\n",
      "Accuracy mean   Accuracy Stdev  \n",
      "0.877522564983 0.00510046226089\n",
      "AUC mean        AUC      Stdev  \n",
      "0.995785211979 0.000429191663448\n",
      "\n",
      "********** RF classifier ************\n",
      "Accuracy mean   Accuracy Stdev  \n",
      "0.994209205785 0.00089930765821\n",
      "AUC mean        AUC      Stdev  \n",
      "0.999195619241 0.000233721065954\n",
      "\n",
      "********** Logistic regression ******\n",
      "Accuracy mean   Accuracy Stdev  \n",
      "0.994026383508 0.000464904881194\n",
      "AUC mean        AUC      Stdev  \n",
      "0.996859217707 0.00037948927549\n",
      "\n",
      "****** Decision Tree classifier *****\n",
      "Accuracy mean   Accuracy Stdev  \n",
      "0.991938114514 0.000964479038163\n",
      "AUC mean        AUC      Stdev  \n",
      "0.987173809891 0.0020925579289\n",
      "\n"
     ]
    }
   ],
   "source": [
    "model_build(filenum=1,Target_column='Occupancy', df_train='d1_train', df_test='d1_test', Directory = \"./Data Set 1/splits/\")"
   ]
  },
  {
   "cell_type": "code",
   "execution_count": 144,
   "metadata": {
    "collapsed": false
   },
   "outputs": [
    {
     "name": "stdout",
     "output_type": "stream",
     "text": [
      "Data set# 3\n",
      "********** SVM classifier ***********\n",
      "Accuracy mean   Accuracy Stdev  \n",
      "0.652113220864 0.00298484648335\n",
      "AUC mean        AUC      Stdev  \n",
      "0.371075740646 0.00711962078198\n",
      "\n",
      "********** RF classifier ************\n",
      "Accuracy mean   Accuracy Stdev  \n",
      "0.871773643624 0.0017192476779\n",
      "AUC mean        AUC      Stdev  \n",
      "0.0712797093288 0.00129733205358\n",
      "\n",
      "********** Logistic regression ******\n",
      "Accuracy mean   Accuracy Stdev  \n",
      "0.788136294373 0.00171746483583\n",
      "AUC mean        AUC      Stdev  \n",
      "0.161871481968 0.00156875652727\n",
      "\n",
      "****** Decision Tree classifier *****\n",
      "Accuracy mean   Accuracy Stdev  \n",
      "0.809035565783 0.00425791593122\n",
      "AUC mean        AUC      Stdev  \n",
      "0.210574994051 0.00442274098834\n",
      "\n"
     ]
    }
   ],
   "source": [
    "model_build(filenum=3,Target_column='Class', df_train='d3_train', df_test='d3_test', Directory = \"./Data Set 3/splits/\",pos_label=1)"
   ]
  },
  {
   "cell_type": "code",
   "execution_count": 149,
   "metadata": {
    "collapsed": false
   },
   "outputs": [
    {
     "name": "stdout",
     "output_type": "stream",
     "text": [
      "Data set# 5\n",
      "********** SVM classifier ***********\n",
      "Accuracy mean   Accuracy Stdev  \n",
      "0.883044455408 0.00133096376778\n",
      "AUC mean        AUC      Stdev  \n",
      "0.649459938988 0.0029217127845\n",
      "\n",
      "********** RF classifier ************\n",
      "Accuracy mean   Accuracy Stdev  \n",
      "0.90116098434 0.00197204619918\n",
      "AUC mean        AUC      Stdev  \n",
      "0.926160645789 0.00220518553102\n",
      "\n",
      "********** Logistic regression ******\n",
      "Accuracy mean   Accuracy Stdev  \n",
      "0.897261533395 0.00154966327141\n",
      "AUC mean        AUC      Stdev  \n",
      "0.878634676006 0.00266516832465\n",
      "\n",
      "****** Decision Tree classifier *****\n",
      "Accuracy mean   Accuracy Stdev  \n",
      "0.872642525882 0.00162016116868\n",
      "AUC mean        AUC      Stdev  \n",
      "0.698964138213 0.00599464338353\n",
      "\n"
     ]
    }
   ],
   "source": [
    "model_build(filenum=5,Target_column='y', df_train='d5_train', df_test='d5_test', Directory = \"./Data Set 5/splits/\",pos_label=None)"
   ]
  },
  {
   "cell_type": "code",
   "execution_count": 160,
   "metadata": {
    "collapsed": false
   },
   "outputs": [
    {
     "name": "stdout",
     "output_type": "stream",
     "text": [
      "Data set# 9\n",
      "********** SVM classifier ***********\n",
      "Accuracy mean   Accuracy Stdev  \n",
      "0.81168356612 0.00178617472735\n",
      "AUC mean        AUC      Stdev  \n",
      "0.804264139279 0.00552444391591\n",
      "\n",
      "********** RF classifier ************\n",
      "Accuracy mean   Accuracy Stdev  \n",
      "0.81266112612 0.00232561711037\n",
      "AUC mean        AUC      Stdev  \n",
      "0.859825038436 0.00180585459387\n",
      "\n",
      "********** Logistic regression ******\n",
      "Accuracy mean   Accuracy Stdev  \n",
      "0.818570003596 0.00175720271485\n",
      "AUC mean        AUC      Stdev  \n",
      "0.864518128108 0.00148562203504\n",
      "\n",
      "****** Decision Tree classifier *****\n",
      "Accuracy mean   Accuracy Stdev  \n",
      "0.770385156241 0.00210503493306\n",
      "AUC mean        AUC      Stdev  \n",
      "0.706391864289 0.00373292249475\n",
      "\n"
     ]
    }
   ],
   "source": [
    "model_build(filenum=9,Target_column='Income level', df_train='d9_train', df_test='d9_test', Directory = \"./Data Set 9/splits/\",pos_label=None)"
   ]
  },
  {
   "cell_type": "code",
   "execution_count": 166,
   "metadata": {
    "collapsed": false
   },
   "outputs": [
    {
     "name": "stdout",
     "output_type": "stream",
     "text": [
      "Data set# 11\n",
      "********** SVM classifier ***********\n",
      "Accuracy mean   Accuracy Stdev  \n",
      "0.640140166605 0.0684837819889\n",
      "AUC mean        AUC      Stdev  \n",
      "0.5 0.0\n",
      "\n",
      "********** RF classifier ************\n",
      "Accuracy mean   Accuracy Stdev  \n",
      "0.928418651785 0.0595627205114\n",
      "AUC mean        AUC      Stdev  \n",
      "0.999044117647 0.0019743708209\n",
      "\n",
      "********** Logistic regression ******\n",
      "Accuracy mean   Accuracy Stdev  \n",
      "0.968803784382 0.0304010215156\n",
      "AUC mean        AUC      Stdev  \n",
      "0.99257918552 0.0158851243537\n",
      "\n",
      "****** Decision Tree classifier *****\n",
      "Accuracy mean   Accuracy Stdev  \n",
      "0.885792156723 0.0460739755803\n",
      "AUC mean        AUC      Stdev  \n",
      "0.88696360339 0.0465043143248\n",
      "\n"
     ]
    }
   ],
   "source": [
    "model_build(filenum=11,Target_column='C7130', df_train='amlall_train', df_test='amlall_test', Directory = \"./data11_amlalll/\",pos_label='AML')"
   ]
  },
  {
   "cell_type": "code",
   "execution_count": 167,
   "metadata": {
    "collapsed": false
   },
   "outputs": [
    {
     "name": "stdout",
     "output_type": "stream",
     "text": [
      "Data set# 13\n",
      "********** SVM classifier ***********\n",
      "Accuracy mean   Accuracy Stdev  \n",
      "0.608064209519 0.139917957238\n",
      "AUC mean        AUC      Stdev  \n",
      "0.5 0.0\n",
      "\n",
      "********** RF classifier ************\n",
      "Accuracy mean   Accuracy Stdev  \n",
      "0.583390362834 0.115612493992\n",
      "AUC mean        AUC      Stdev  \n",
      "0.54543077021 0.122658713957\n",
      "\n",
      "********** Logistic regression ******\n",
      "Accuracy mean   Accuracy Stdev  \n",
      "0.60669917075 0.0900803543827\n",
      "AUC mean        AUC      Stdev  \n",
      "0.610881236819 0.101854537442\n",
      "\n",
      "****** Decision Tree classifier *****\n",
      "Accuracy mean   Accuracy Stdev  \n",
      "0.554942127353 0.101606942254\n",
      "AUC mean        AUC      Stdev  \n",
      "0.542047658224 0.0602287538524\n",
      "\n"
     ]
    }
   ],
   "source": [
    "model_build(filenum=13,Target_column='C7130', df_train='central_train', df_test='central_test', Directory = \"./data13_central/\",pos_label='Class1')"
   ]
  },
  {
   "cell_type": "code",
   "execution_count": 168,
   "metadata": {
    "collapsed": false
   },
   "outputs": [
    {
     "name": "stdout",
     "output_type": "stream",
     "text": [
      "Data set# 16\n",
      "********** SVM classifier ***********\n",
      "Accuracy mean   Accuracy Stdev  \n",
      "0.921276547374 0.037188373285\n",
      "AUC mean        AUC      Stdev  \n",
      "0.965841648478 0.030981690192\n",
      "\n",
      "********** RF classifier ************\n",
      "Accuracy mean   Accuracy Stdev  \n",
      "0.915864609462 0.0427633174354\n",
      "AUC mean        AUC      Stdev  \n",
      "0.960508190473 0.0289887651813\n",
      "\n",
      "********** Logistic regression ******\n",
      "Accuracy mean   Accuracy Stdev  \n",
      "0.938578486627 0.0367554930389\n",
      "AUC mean        AUC      Stdev  \n",
      "0.981968332426 0.0203006221191\n",
      "\n",
      "****** Decision Tree classifier *****\n",
      "Accuracy mean   Accuracy Stdev  \n",
      "0.834347346238 0.082435142252\n",
      "AUC mean        AUC      Stdev  \n",
      "0.836040684462 0.0850752664866\n",
      "\n"
     ]
    }
   ],
   "source": [
    "model_build(filenum=16,Target_column='C122', df_train='pros_train', df_test='pros_test', Directory = \"./data16_pros/\",pos_label=None)"
   ]
  },
  {
   "cell_type": "code",
   "execution_count": null,
   "metadata": {
    "collapsed": true
   },
   "outputs": [],
   "source": []
  }
 ],
 "metadata": {
  "kernelspec": {
   "display_name": "Python 3",
   "language": "python",
   "name": "python3"
  },
  "language_info": {
   "codemirror_mode": {
    "name": "ipython",
    "version": 3
   },
   "file_extension": ".py",
   "mimetype": "text/x-python",
   "name": "python",
   "nbconvert_exporter": "python",
   "pygments_lexer": "ipython3",
   "version": "3.5.1"
  }
 },
 "nbformat": 4,
 "nbformat_minor": 0
}
